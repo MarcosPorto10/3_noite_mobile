{
  "nbformat": 4,
  "nbformat_minor": 0,
  "metadata": {
    "colab": {
      "name": "Primeiro-programa.ipynb",
      "provenance": [],
      "authorship_tag": "ABX9TyPqncfNC9Cbm0zz76WO2fLU",
      "include_colab_link": true
    },
    "kernelspec": {
      "name": "python3",
      "display_name": "Python 3"
    },
    "language_info": {
      "name": "python"
    }
  },
  "cells": [
    {
      "cell_type": "markdown",
      "metadata": {
        "id": "view-in-github",
        "colab_type": "text"
      },
      "source": [
        "<a href=\"https://colab.research.google.com/github/MarcosPorto10/3_noite_mobile/blob/master/Primeiro_programa.ipynb\" target=\"_parent\"><img src=\"https://colab.research.google.com/assets/colab-badge.svg\" alt=\"Open In Colab\"/></a>"
      ]
    },
    {
      "cell_type": "markdown",
      "source": [
        ""
      ],
      "metadata": {
        "id": "NM5ZJg9TnWWq"
      }
    },
    {
      "cell_type": "code",
      "source": [
        "print (\"hello world\")\n",
        "print(2 + 3)"
      ],
      "metadata": {
        "colab": {
          "base_uri": "https://localhost:8080/"
        },
        "id": "LbdHy1fXoLKo",
        "outputId": "cb1bfb88-187a-4f23-d371-25595b2d3f61"
      },
      "execution_count": 6,
      "outputs": [
        {
          "output_type": "stream",
          "name": "stdout",
          "text": [
            "hello world\n",
            "5\n"
          ]
        }
      ]
    },
    {
      "cell_type": "code",
      "source": [
        "#declaracao\n",
        "#definicao\n",
        "#atribuiçao\n",
        "\n",
        "\n",
        "idade = 28 \n",
        "nome =\"luiz\"\n",
        "altura=1.85\n",
        "idade=\"30\"\n",
        "lista_fruta=[\"maça\",\"banana\",\"morango\"]\n",
        "print(idade)\n",
        "print(nome)\n",
        "print(altura)\n",
        "print(lista_fruta)"
      ],
      "metadata": {
        "colab": {
          "base_uri": "https://localhost:8080/"
        },
        "id": "WhTpfPGSpkAm",
        "outputId": "eb3b2671-7948-4ec9-84e3-75a6383ff693"
      },
      "execution_count": 14,
      "outputs": [
        {
          "output_type": "stream",
          "name": "stdout",
          "text": [
            "30\n",
            "luiz\n",
            "1.85\n",
            "['maça', 'banana', 'morango']\n"
          ]
        }
      ]
    },
    {
      "cell_type": "markdown",
      "source": [
        "# laços repetição\n"
      ],
      "metadata": {
        "id": "GpiZoSgPw_SJ"
      }
    },
    {
      "cell_type": "code",
      "source": [
        "i=1\n",
        "while i<10:\n",
        "  i +=1\n",
        "  if i==5:\n",
        "   continue\n",
        "  print(i)\n"
      ],
      "metadata": {
        "colab": {
          "base_uri": "https://localhost:8080/"
        },
        "id": "ZvF1uAP_xI0A",
        "outputId": "2f1a9dc6-0907-4701-d643-f9d8c94144a5"
      },
      "execution_count": 23,
      "outputs": [
        {
          "output_type": "stream",
          "name": "stdout",
          "text": [
            "2\n",
            "3\n",
            "4\n",
            "6\n",
            "7\n",
            "8\n",
            "9\n",
            "10\n"
          ]
        }
      ]
    },
    {
      "cell_type": "code",
      "source": [
        "for x in"
      ],
      "metadata": {
        "id": "_bB3NtHuy1PU"
      },
      "execution_count": null,
      "outputs": []
    }
  ]
}